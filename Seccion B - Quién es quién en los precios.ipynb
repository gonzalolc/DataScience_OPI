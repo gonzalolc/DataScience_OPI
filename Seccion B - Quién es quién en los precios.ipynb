{
 "cells": [
  {
   "cell_type": "markdown",
   "id": "expressed-planning",
   "metadata": {},
   "source": [
    "# Resolución del Examen Data Science - OPI Analytics\n",
    "## Gonzalo Lima Cinta"
   ]
  },
  {
   "cell_type": "markdown",
   "id": "negative-malawi",
   "metadata": {},
   "source": [
    "***\n",
    "### Sección B\n",
    "### Quién es quién en los precios"
   ]
  },
  {
   "cell_type": "code",
   "execution_count": 5,
   "id": "hollywood-sellers",
   "metadata": {},
   "outputs": [],
   "source": [
    "import pandas as pd\n",
    "from pyspark.sql import SparkSession\n",
    "from pyspark.context import SparkContext\n",
    "from pyspark.sql.functions import *\n",
    "from pyspark.sql.types import *\n",
    "from datetime import date, timedelta, datetime\n",
    "import time"
   ]
  },
  {
   "cell_type": "code",
   "execution_count": 39,
   "id": "better-thought",
   "metadata": {},
   "outputs": [],
   "source": [
    "sc = SparkSession.builder.appName(\"PysparkProfeco\").config (\"spark.sql.shuffle.partitions\", \"50\")\\\n",
    ".config(\"spark.driver.maxResultSize\",\"2g\").config (\"spark.sql.execution.arrow.enabled\", \"true\").getOrCreate()"
   ]
  },
  {
   "cell_type": "code",
   "execution_count": 114,
   "id": "essential-reason",
   "metadata": {},
   "outputs": [],
   "source": [
    "data = sc.read.option(\"header\",\"true\").csv('databases/all_data.csv')"
   ]
  },
  {
   "cell_type": "code",
   "execution_count": 43,
   "id": "integrated-gnome",
   "metadata": {},
   "outputs": [
    {
     "name": "stdout",
     "output_type": "stream",
     "text": [
      "+-------+--------------------+--------------------+--------------------+--------------------+--------+------------------+--------------------+---------------+--------------------+---------------+--------------------+--------------------+--------------+------------------+-------------------+\n",
      "|summary|                 _c0|                 _c1|                 _c2|                 _c3|     _c4|               _c5|                 _c6|            _c7|                 _c8|            _c9|                _c10|                _c11|          _c12|              _c13|               _c14|\n",
      "+-------+--------------------+--------------------+--------------------+--------------------+--------+------------------+--------------------+---------------+--------------------+---------------+--------------------+--------------------+--------------+------------------+-------------------+\n",
      "|  count|            62530716|            62530716|            62530716|            61643378|62530488|          62530716|            62530716|       62529532|            62530429|       62530716|            62530716|            62515662|      62515662|          62493902|           62493902|\n",
      "|   mean|                null|   77442.23093432537|              1880.0|                null|    null| 516.5699223651386|                null|           null|                null|           null|                null|                null|          null|23.734606174278234|-100.06933364693273|\n",
      "| stddev|                null|   47406.83284908752|                 0.0|                null|    null|1998.6208089030845|                null|           null|                null|           null|                null|                null|          null|264.50453350424465|  10.82629771988107|\n",
      "|    min|\"PREMARIN. CREMA ...|# 6017872 O C.B. ...|'PAPER MATE. ERAS...|ACCESORIOS DOMEST...| BASICOS|               .57|2011-01-03 00:00:...|       7 ELEVEN|ARTICULOS DEPORTIVOS|       7 ELEVEN|\"CALZ. LAZARO CAR...| COL. EDUARDO GUERRA|    CP. 27280\"|                 0|        -100.220247|\n",
      "|    max|            producto|´0280808. PATIN/S...|               marca|           categoria|catalogo|            precio|       fechaRegistro|cadenaComercial|                giro|nombreComercial|           direccion|              estado|ÁLVARO OBREGÓN|           latitud|           longitud|\n",
      "+-------+--------------------+--------------------+--------------------+--------------------+--------+------------------+--------------------+---------------+--------------------+---------------+--------------------+--------------------+--------------+------------------+-------------------+\n",
      "\n"
     ]
    }
   ],
   "source": [
    "data.describe().show()"
   ]
  },
  {
   "cell_type": "code",
   "execution_count": 115,
   "id": "japanese-realtor",
   "metadata": {},
   "outputs": [
    {
     "name": "stdout",
     "output_type": "stream",
     "text": [
      "+--------------------+--------------------+------------------+----------------+----------------+------+--------------------+------------------+--------------------+--------------------+--------------------+----------------+--------------------+--------+----------+\n",
      "|            producto|        presentacion|             marca|       categoria|        catalogo|precio|       fechaRegistro|   cadenaComercial|                giro|     nombreComercial|           direccion|          estado|           municipio| latitud|  longitud|\n",
      "+--------------------+--------------------+------------------+----------------+----------------+------+--------------------+------------------+--------------------+--------------------+--------------------+----------------+--------------------+--------+----------+\n",
      "|CUADERNO FORMA IT...|96 HOJAS PASTA DU...|          ESTRELLA|MATERIAL ESCOLAR|UTILES ESCOLARES|  25.9|2011-05-18 00:00:...|ABASTECEDORA LUMEN|          PAPELERIAS|ABASTECEDORA LUME...|CANNES No. 6 ESQ....|DISTRITO FEDERAL|TLALPAN          ...|19.29699|-99.125417|\n",
      "|            CRAYONES|CAJA 12 CERAS. JU...|           CRAYOLA|MATERIAL ESCOLAR|UTILES ESCOLARES|  27.5|2011-05-18 00:00:...|ABASTECEDORA LUMEN|          PAPELERIAS|ABASTECEDORA LUME...|CANNES No. 6 ESQ....|DISTRITO FEDERAL|TLALPAN          ...|19.29699|-99.125417|\n",
      "|            CRAYONES|CAJA 12 CERAS. TA...|           CRAYOLA|MATERIAL ESCOLAR|UTILES ESCOLARES|  13.9|2011-05-18 00:00:...|ABASTECEDORA LUMEN|          PAPELERIAS|ABASTECEDORA LUME...|CANNES No. 6 ESQ....|DISTRITO FEDERAL|TLALPAN          ...|19.29699|-99.125417|\n",
      "|   COLORES DE MADERA|CAJA 12 PIEZAS LA...|          PINCELIN|MATERIAL ESCOLAR|UTILES ESCOLARES|  46.9|2011-05-18 00:00:...|ABASTECEDORA LUMEN|          PAPELERIAS|ABASTECEDORA LUME...|CANNES No. 6 ESQ....|DISTRITO FEDERAL|TLALPAN          ...|19.29699|-99.125417|\n",
      "|         COLOR LARGO|CAJA 36 PIEZAS. C...|           CRAYOLA|MATERIAL ESCOLAR|UTILES ESCOLARES|   115|2011-05-18 00:00:...|ABASTECEDORA LUMEN|          PAPELERIAS|ABASTECEDORA LUME...|CANNES No. 6 ESQ....|DISTRITO FEDERAL|TLALPAN          ...|19.29699|-99.125417|\n",
      "|           BOLIGRAFO|BLISTER 3 PIEZAS....|  BIC. CRISTAL GEL|MATERIAL ESCOLAR|UTILES ESCOLARES|  32.5|2011-05-18 00:00:...|ABASTECEDORA LUMEN|          PAPELERIAS|ABASTECEDORA LUME...|CANNES No. 6 ESQ....|DISTRITO FEDERAL|TLALPAN          ...|19.29699|-99.125417|\n",
      "|      CINTA ADHESIVA|BOLSA 1 PIEZA. 12...|    SCOTCH 3M. 600|MATERIAL ESCOLAR|UTILES ESCOLARES|     9|2011-05-18 00:00:...|ABASTECEDORA LUMEN|          PAPELERIAS|ABASTECEDORA LUME...|CANNES No. 6 ESQ....|DISTRITO FEDERAL|TLALPAN          ...|19.29699|-99.125417|\n",
      "|   COLORES DE MADERA|CAJA 24 PIEZAS. L...|    KORES. KOLORES|MATERIAL ESCOLAR|UTILES ESCOLARES|  95.9|2011-05-18 00:00:...|ABASTECEDORA LUMEN|          PAPELERIAS|ABASTECEDORA LUME...|CANNES No. 6 ESQ....|DISTRITO FEDERAL|TLALPAN          ...|19.29699|-99.125417|\n",
      "|            CRAYONES|CAJA 24 CERAS. TA...|PAPER MATE. CARMEN|MATERIAL ESCOLAR|UTILES ESCOLARES|  23.2|2011-05-18 00:00:...|ABASTECEDORA LUMEN|          PAPELERIAS|ABASTECEDORA LUME...|CANNES No. 6 ESQ....|DISTRITO FEDERAL|TLALPAN          ...|19.29699|-99.125417|\n",
      "|  PAN BLANCO BOLILLO|               PIEZA|               S/M|             PAN|         BASICOS|   1.2|2011-01-10 00:00:...|COMERCIAL MEXICANA|TIENDA DE AUTOSER...|COMERCIAL MEXICAN...|AV. LAGO DE GUADA...|          MÉXICO|ATIZAPAN         ...|      NA|        NA|\n",
      "+--------------------+--------------------+------------------+----------------+----------------+------+--------------------+------------------+--------------------+--------------------+--------------------+----------------+--------------------+--------+----------+\n",
      "only showing top 10 rows\n",
      "\n"
     ]
    }
   ],
   "source": [
    "data.show(10)"
   ]
  },
  {
   "cell_type": "markdown",
   "id": "outdoor-duplicate",
   "metadata": {},
   "source": [
    "***\n",
    "### 1.- Procesamiento de datos"
   ]
  },
  {
   "cell_type": "markdown",
   "id": "editorial-suffering",
   "metadata": {},
   "source": [
    "***\n",
    "__a.- ¿Cuántos registros hay?__\n",
    "\n",
    "Existen 62,530,716 de registros"
   ]
  },
  {
   "cell_type": "code",
   "execution_count": 42,
   "id": "tight-thermal",
   "metadata": {},
   "outputs": [
    {
     "data": {
      "text/plain": [
       "62530716"
      ]
     },
     "execution_count": 42,
     "metadata": {},
     "output_type": "execute_result"
    }
   ],
   "source": [
    "data.count()"
   ]
  },
  {
   "cell_type": "markdown",
   "id": "developing-briefing",
   "metadata": {},
   "source": [
    "***\n",
    "__b.- ¿Cuántas categorías?__\n",
    "\n",
    "Existen 42 categorías"
   ]
  },
  {
   "cell_type": "code",
   "execution_count": 44,
   "id": "pleasant-bouquet",
   "metadata": {},
   "outputs": [
    {
     "data": {
      "text/plain": [
       "42"
      ]
     },
     "execution_count": 44,
     "metadata": {},
     "output_type": "execute_result"
    }
   ],
   "source": [
    "len(data.select('categoria').distinct().collect())"
   ]
  },
  {
   "cell_type": "markdown",
   "id": "controversial-target",
   "metadata": {},
   "source": [
    "***\n",
    "__c.- ¿Cuántas cadenas comerciales están siendo monitoreadas?__\n",
    "\n",
    "Se registran 706 diferentes cadenas comerciales"
   ]
  },
  {
   "cell_type": "code",
   "execution_count": 27,
   "id": "reverse-ready",
   "metadata": {},
   "outputs": [
    {
     "data": {
      "text/plain": [
       "706"
      ]
     },
     "execution_count": 27,
     "metadata": {},
     "output_type": "execute_result"
    }
   ],
   "source": [
    "len(data.select('cadenaComercial').distinct().collect())"
   ]
  },
  {
   "cell_type": "markdown",
   "id": "identified-thickness",
   "metadata": {},
   "source": [
    "***\n",
    "__d.- ¿Cómo podrías determinar la calidad de los datos? ¿Detectaste algún tipo de\n",
    "inconsistencia o error en la fuente?__\n",
    "\n",
    "Al realizar una limpieza removiendo duplicados se redujo el total de registros de 62 millones 500 mil (aprox.) a\n",
    "Además se podrían eliminar registros con algun dato faltante o inconsistente.  (no se hizo el análisis)\n",
    "La página de donde se descargaron los datos indica que tiene registro de más de 2mil productos, sin embargo se encontraron solamente 1,107. Así mismo, hizo falta un diccionario de datos o tabla explicativa de la base, para un completo entendimiento de cada dato.\n",
    "Prácticamente todos los registros cuentan con toda la información. La columna con más faltantes es \"categoría\" con alrededor de 800mil faltantes.\n",
    "Al realizar una lista de los diferentes estados, se detectaron colonias o calles en dicha columna."
   ]
  },
  {
   "cell_type": "markdown",
   "id": "supposed-first",
   "metadata": {},
   "source": [
    "***\n",
    "__e.- ¿Cuáles son los productos más monitoreados en cada entidad?__\n",
    "\n",
    "La bae de datos contiene 1107 diferentes productos"
   ]
  },
  {
   "cell_type": "code",
   "execution_count": 34,
   "id": "julian-brisbane",
   "metadata": {},
   "outputs": [
    {
     "data": {
      "text/plain": [
       "1107"
      ]
     },
     "execution_count": 34,
     "metadata": {},
     "output_type": "execute_result"
    }
   ],
   "source": [
    "len(data.select('producto').distinct().collect())"
   ]
  },
  {
   "cell_type": "markdown",
   "id": "mobile-constraint",
   "metadata": {},
   "source": [
    "***\n",
    "__f.- ¿Cuál es la cadena comercial con mayor variedad de productos monitoreados?__\n",
    "\n",
    "Soriana es la cadena con mayor variedad con 1059 productos diferentes"
   ]
  },
  {
   "cell_type": "code",
   "execution_count": 72,
   "id": "developed-prophet",
   "metadata": {},
   "outputs": [],
   "source": [
    "cadenas = data.groupBy(\"cadenaComercial\").agg(countDistinct(\"producto\"))"
   ]
  },
  {
   "cell_type": "code",
   "execution_count": 76,
   "id": "bearing-pixel",
   "metadata": {},
   "outputs": [
    {
     "name": "stdout",
     "output_type": "stream",
     "text": [
      "+--------------------+----------+\n",
      "|                 _c7|count(_c0)|\n",
      "+--------------------+----------+\n",
      "|             SORIANA|      1059|\n",
      "|            WAL-MART|      1051|\n",
      "|MEGA COMERCIAL ME...|      1049|\n",
      "|  COMERCIAL MEXICANA|      1036|\n",
      "|            CHEDRAUI|      1026|\n",
      "+--------------------+----------+\n",
      "only showing top 5 rows\n",
      "\n"
     ]
    }
   ],
   "source": [
    "cadenas.orderBy('count(producto)', ascending=False).show(5)"
   ]
  },
  {
   "cell_type": "markdown",
   "id": "psychological-mainstream",
   "metadata": {},
   "source": [
    "### 2.- Análisis exploratorio"
   ]
  },
  {
   "cell_type": "markdown",
   "id": "referenced-humanity",
   "metadata": {},
   "source": [
    "***\n",
    "__a.- Genera una canasta de productos básicos que te permita comparar los precios\n",
    "geográfica y temporalmente. Justifica tu elección y procedimiento__\n",
    "\n",
    "Se optó por seleccionar una canasta con los 5 productos con más registros.\n",
    "Refresco, Detergente para ropa, Fud, Leche Ultrapasteurizada, shampoo\n",
    "\n",
    "Utilizando los resultados de los incisos siguientes, se logra observar cuales son los estados con mayor precio para esta \"canasta básica\" así como los precios por mes. Quiero destacar que la ciudad de México no figura entre los 15 estados con mayor costo. Así también se logra observar que el mes de Enero fue en promedio el más caro de todo el año."
   ]
  },
  {
   "cell_type": "code",
   "execution_count": 98,
   "id": "spread-cause",
   "metadata": {},
   "outputs": [],
   "source": [
    "productos = data.groupBy(\"producto\").count()"
   ]
  },
  {
   "cell_type": "code",
   "execution_count": 155,
   "id": "everyday-structure",
   "metadata": {},
   "outputs": [
    {
     "name": "stdout",
     "output_type": "stream",
     "text": [
      "+-----------------------+-------+\n",
      "|_c0                    |count  |\n",
      "+-----------------------+-------+\n",
      "|REFRESCO               |1247981|\n",
      "|DETERGENTE P/ROPA      |990122 |\n",
      "|FUD                    |933410 |\n",
      "|LECHE ULTRAPASTEURIZADA|886716 |\n",
      "|SHAMPOO                |745467 |\n",
      "|JABON DE TOCADOR       |744914 |\n",
      "|CHILES EN LATA         |724862 |\n",
      "|MAYONESA               |697586 |\n",
      "|YOGHURT                |632362 |\n",
      "|DESODORANTE            |623684 |\n",
      "+-----------------------+-------+\n",
      "only showing top 10 rows\n",
      "\n"
     ]
    }
   ],
   "source": [
    "productos.orderBy('count', ascending=False).show(10,False)"
   ]
  },
  {
   "cell_type": "markdown",
   "id": "sustainable-calibration",
   "metadata": {},
   "source": [
    "***\n",
    "__b. ¿Cuál es la ciudad más cara del país? ¿Cuál es la más barata?__\n",
    "\n",
    "No se cuenta con el dato de ciudades, pero si de municipios, por lo que se presenta el resultado en base a dicho nivel. Se seleccionaron los 5 productos más comunes y se hizo el promedio de esos productos en cada municipio.\n",
    "\n",
    "MONCLOVA fue el municipio más cara con un promedio del precio en los productos de $45 mientras que TLAJOMULCO DE ZUÑIGA fue el municipio con los productos más económicos con un promedio del precio de $12.8"
   ]
  },
  {
   "cell_type": "code",
   "execution_count": 124,
   "id": "flying-karaoke",
   "metadata": {},
   "outputs": [],
   "source": [
    "top_prods = data.filter(data.producto.isin(\"REFRESCO\",\"DETERGENTE P/ROPA\",\"FUD\",\"LECHE ULTRAPASTEURIZADA\",\"SHAMPOO\"))\n",
    "prod_mun = top_prods.groupBy(\"municipio\").agg({'precio':'avg'})"
   ]
  },
  {
   "cell_type": "code",
   "execution_count": 125,
   "id": "improving-cruise",
   "metadata": {},
   "outputs": [
    {
     "name": "stdout",
     "output_type": "stream",
     "text": [
      "+----------------------------------------+------------------+\n",
      "|municipio                               |avg(precio)       |\n",
      "+----------------------------------------+------------------+\n",
      "|MONCLOVA                                |45.06075514874144 |\n",
      "|CUAUTITLÁN                              |44.91681918359528 |\n",
      "|SAN LUIS POTOSÍ                         |44.86105761389828 |\n",
      "|CARMEN                                  |44.41721173658613 |\n",
      "|REYNOSA                                 |44.206107197549706|\n",
      "+----------------------------------------+------------------+\n",
      "only showing top 5 rows\n",
      "\n"
     ]
    }
   ],
   "source": [
    "#promedio más alto\n",
    "prod_mun.orderBy('avg(precio)', ascending=False).show(5,False)"
   ]
  },
  {
   "cell_type": "code",
   "execution_count": null,
   "id": "stunning-transformation",
   "metadata": {},
   "outputs": [],
   "source": [
    "#promedio más bajo\n",
    "prod_mun.orderBy('avg(precio)', ascending=True).show(5,False)"
   ]
  },
  {
   "cell_type": "markdown",
   "id": "ecological-metabolism",
   "metadata": {},
   "source": [
    "***\n",
    "__c. ¿Hay algún patrón estacional entre años?__\n",
    "\n",
    "No parece haber un patrón estacional. En 2011 los meses con el mayor precio fueron noviembre y diciembre, en 2012 fueron febrero y marzo, en 2013 septiembre y octubre ocuparon el mayor promedio. \n",
    "El unico patrón facilmente detectable es el aumento gradual año tras año del precio de estos 5 productos."
   ]
  },
  {
   "cell_type": "code",
   "execution_count": 117,
   "id": "fuzzy-reconstruction",
   "metadata": {},
   "outputs": [],
   "source": [
    "#Extracción de año y mes a partir de fecha\n",
    "split_date=split(data['fechaRegistro'], '-')\n",
    "data = data.withColumn('Year', split_date.getItem(0))\n",
    "data = data.withColumn('Month', split_date.getItem(1))"
   ]
  },
  {
   "cell_type": "code",
   "execution_count": 133,
   "id": "studied-necessity",
   "metadata": {},
   "outputs": [],
   "source": [
    "prod_year = top_prods.groupBy([\"year\",\"month\"]).agg({'precio':'avg'})"
   ]
  },
  {
   "cell_type": "code",
   "execution_count": 138,
   "id": "confused-vulnerability",
   "metadata": {},
   "outputs": [
    {
     "name": "stdout",
     "output_type": "stream",
     "text": [
      "+----+-----+------------------+\n",
      "|year|month|avg(precio)       |\n",
      "+----+-----+------------------+\n",
      "|2016|04   |40.780153894440915|\n",
      "|2016|03   |40.61842780366333 |\n",
      "|2016|02   |40.47524414739435 |\n",
      "|2016|01   |40.793362613423575|\n",
      "|2015|08   |39.475693356105445|\n",
      "|2015|10   |40.70794611361077 |\n",
      "|2015|04   |38.27207695827156 |\n",
      "|2015|09   |40.541086343893355|\n",
      "|2015|01   |37.94318128233905 |\n",
      "|2015|12   |41.53846067079426 |\n",
      "|2015|05   |38.75451954816243 |\n",
      "|2015|07   |39.084128241205086|\n",
      "|2015|06   |39.02409806217784 |\n",
      "|2015|02   |38.32796863822286 |\n",
      "|2015|03   |38.26804693040797 |\n",
      "|2015|11   |41.07190792561249 |\n",
      "|2014|11   |37.586010191988   |\n",
      "|2014|03   |35.15733521755276 |\n",
      "|2014|01   |35.27421479109234 |\n",
      "|2014|12   |37.346299448475605|\n",
      "|2014|09   |37.89643961256737 |\n",
      "|2014|04   |36.03578641713857 |\n",
      "|2014|06   |37.090682472855434|\n",
      "|2014|05   |36.04165324583158 |\n",
      "|2014|10   |37.66927767299489 |\n",
      "|2014|08   |36.99401233762523 |\n",
      "|2014|02   |34.85938319349745 |\n",
      "|2014|07   |37.09593012994573 |\n",
      "|2013|01   |32.286656106787845|\n",
      "|2013|03   |32.663028770268085|\n",
      "|2013|06   |33.01584939653638 |\n",
      "|2013|02   |32.313327474790334|\n",
      "|2013|04   |32.41735078053238 |\n",
      "|2013|08   |34.57071792104744 |\n",
      "|2013|10   |34.47172734260324 |\n",
      "|2013|12   |33.902667124113655|\n",
      "|2013|11   |33.835493935876265|\n",
      "|2013|07   |34.270722581692894|\n",
      "|2013|09   |34.81646601192653 |\n",
      "|2013|05   |32.557832766394895|\n",
      "|2012|11   |31.92626176146469 |\n",
      "|2012|03   |32.5888807683216  |\n",
      "|2012|08   |32.19513542971454 |\n",
      "|2012|01   |31.93574548114075 |\n",
      "|2012|06   |32.12088057841725 |\n",
      "|2012|02   |32.439428137651554|\n",
      "|2012|10   |32.0370826086307  |\n",
      "|2012|05   |32.10834479942165 |\n",
      "|2012|12   |32.105876790113015|\n",
      "|2012|07   |32.23166392513184 |\n",
      "|2012|09   |32.21452698781168 |\n",
      "|2012|04   |32.000572204681085|\n",
      "|2011|06   |30.298374273093877|\n",
      "|2011|08   |30.135672275542415|\n",
      "|2011|07   |30.36736855377613 |\n",
      "|2011|01   |30.000774859431406|\n",
      "|2011|11   |30.658338192419816|\n",
      "|2011|05   |30.236490603618225|\n",
      "|2011|09   |29.79842326680354 |\n",
      "|2011|03   |30.28566824343385 |\n",
      "|2011|02   |30.10242056759852 |\n",
      "|2011|04   |30.375113672307243|\n",
      "|2011|12   |31.272816608996475|\n",
      "|2011|10   |30.333821551616616|\n",
      "+----+-----+------------------+\n",
      "\n"
     ]
    }
   ],
   "source": [
    "prod_year.orderBy('year', ascending=False).show(72,False)"
   ]
  },
  {
   "cell_type": "markdown",
   "id": "sporting-richardson",
   "metadata": {},
   "source": [
    "***\n",
    "__d. ¿Cuál es el estado más caro y en qué mes?__\n",
    "\n",
    "San Luis Potosí es el estado más caro y el mes de Diciembre tuvo el promedio mas alto seguido de Abril."
   ]
  },
  {
   "cell_type": "code",
   "execution_count": 126,
   "id": "planned-trailer",
   "metadata": {},
   "outputs": [],
   "source": [
    "prod_ent = top_prods.groupBy([\"estado\",\"month\"]).agg({'precio':'avg'})"
   ]
  },
  {
   "cell_type": "code",
   "execution_count": 132,
   "id": "frozen-germany",
   "metadata": {},
   "outputs": [
    {
     "name": "stdout",
     "output_type": "stream",
     "text": [
      "+---------------+-----+------------------+\n",
      "|estado         |month|avg(precio)       |\n",
      "+---------------+-----+------------------+\n",
      "|SAN LUIS POTOSÍ|12   |45.32688813349815 |\n",
      "|SAN LUIS POTOSÍ|04   |45.22754942058623 |\n",
      "|SAN LUIS POTOSÍ|01   |44.97118375325803 |\n",
      "|SAN LUIS POTOSÍ|05   |44.80866485013625 |\n",
      "|SAN LUIS POTOSÍ|03   |44.771965703397896|\n",
      "|SAN LUIS POTOSÍ|11   |44.636701244813274|\n",
      "|SAN LUIS POTOSÍ|09   |44.54791610648023 |\n",
      "|SAN LUIS POTOSÍ|02   |44.22057390189163 |\n",
      "|SAN LUIS POTOSÍ|06   |44.219844647078695|\n",
      "|SAN LUIS POTOSÍ|07   |43.7720568181818  |\n",
      "|SAN LUIS POTOSÍ|10   |43.66876453864048 |\n",
      "|SAN LUIS POTOSÍ|08   |43.341147836538475|\n",
      "|CAMPECHE       |09   |43.25322056574924 |\n",
      "|CAMPECHE       |12   |43.18041896719714 |\n",
      "|GUERRERO       |01   |43.1501078546307  |\n",
      "+---------------+-----+------------------+\n",
      "only showing top 15 rows\n",
      "\n"
     ]
    }
   ],
   "source": [
    "prod_ent.orderBy('avg(precio)', ascending=False).show(15,False)"
   ]
  },
  {
   "cell_type": "markdown",
   "id": "upper-windsor",
   "metadata": {},
   "source": [
    "*Para complementar la respuesta al inciso a"
   ]
  },
  {
   "cell_type": "code",
   "execution_count": 158,
   "id": "imposed-samba",
   "metadata": {},
   "outputs": [
    {
     "name": "stdout",
     "output_type": "stream",
     "text": [
      "+--------------------+------------------+\n",
      "|estado              |avg(precio)       |\n",
      "+--------------------+------------------+\n",
      "|SAN LUIS POTOSÍ     |44.43373228593054 |\n",
      "|CAMPECHE            |42.30598875215309 |\n",
      "|GUERRERO            |41.82067367204908 |\n",
      "|TAMAULIPAS          |41.24869568335763 |\n",
      "|BAJA CALIFORNIA SUR |40.632374062950355|\n",
      "|NAYARIT             |40.527602769951415|\n",
      "|CHIHUAHUA           |40.52042394125954 |\n",
      "|COAHUILA DE ZARAGOZA|40.1405524096436  |\n",
      "|AGUASCALIENTES      |39.89019901470129 |\n",
      "|QUINTANA ROO        |39.41741205293447 |\n",
      "|MORELOS             |39.38802589810472 |\n",
      "|DURANGO             |39.02842752659573 |\n",
      "|BAJA CALIFORNIA     |37.99886646047012 |\n",
      "|CHIAPAS             |37.63936392268267 |\n",
      "|MÉXICO              |36.42039169052019 |\n",
      "+--------------------+------------------+\n",
      "only showing top 15 rows\n",
      "\n"
     ]
    }
   ],
   "source": [
    "prod_ent = top_prods.groupBy([\"estado\"]).agg({'precio':'avg'})\n",
    "prod_ent.orderBy('avg(precio)', ascending=False).show(15,False)"
   ]
  },
  {
   "cell_type": "code",
   "execution_count": 159,
   "id": "subsequent-agenda",
   "metadata": {},
   "outputs": [
    {
     "name": "stdout",
     "output_type": "stream",
     "text": [
      "+-----+------------------+\n",
      "|month|avg(precio)       |\n",
      "+-----+------------------+\n",
      "|01   |36.564854590506386|\n",
      "|09   |36.53325812792576 |\n",
      "|12   |36.38284965520774 |\n",
      "|10   |36.21843633645343 |\n",
      "|11   |35.92251238484839 |\n",
      "|04   |35.897136101899555|\n",
      "|03   |35.79061615419941 |\n",
      "|02   |35.69699568829376 |\n",
      "|08   |35.62398818100341 |\n",
      "|07   |35.61535501390084 |\n",
      "|06   |35.16025094563259 |\n",
      "|05   |34.432575079659344|\n",
      "+-----+------------------+\n",
      "\n"
     ]
    }
   ],
   "source": [
    "prod_ent = top_prods.groupBy([\"month\"]).agg({'precio':'avg'})\n",
    "prod_ent.orderBy('avg(precio)', ascending=False).show(15,False)"
   ]
  },
  {
   "cell_type": "markdown",
   "id": "existing-snowboard",
   "metadata": {},
   "source": [
    "***\n",
    "__e. ¿Cuáles son los principales riesgos de hacer análisis de series de tiempo con\n",
    "estos datos?__\n",
    "\n",
    "La inconsistencia en los datos es el primer factor de riezgo. Cada estado vende productos diferentes y en diferentes cantidades. Es por esto que se seleccionaron solamente los 5 productos más vendidos para hacer los análisis anteriores. Además pudieron haberse ido introduciendo nuevos productos año con año, por lo que haría falta un análisis más exaustivo."
   ]
  },
  {
   "cell_type": "markdown",
   "id": "periodic-process",
   "metadata": {},
   "source": [
    "***\n",
    "### 3.- Visualización"
   ]
  },
  {
   "cell_type": "markdown",
   "id": "killing-effectiveness",
   "metadata": {},
   "source": [
    "__a.- Genera un mapa que nos permita identificar la oferta de categorías en la zona metropolitana de León Guanajuato y el nivel de precios en cada una de ellas. Se darán puntos extra si el mapa es interactivo__\n",
    "\n",
    "Se hará la suposición que el municipio de \"LEÓN y LEON\" incluyen la zona metropolitana."
   ]
  },
  {
   "cell_type": "code",
   "execution_count": 153,
   "id": "sapphire-cement",
   "metadata": {},
   "outputs": [
    {
     "data": {
      "text/plain": [
       "[Row(estado='QUINTANA ROO'),\n",
       " Row(estado=' ESQ. SUR 125\"'),\n",
       " Row(estado='NUEVO LEÓN'),\n",
       " Row(estado='SINALOA'),\n",
       " Row(estado='TABASCO'),\n",
       " Row(estado='BAJA CALIFORNIA SUR'),\n",
       " Row(estado='JALISCO'),\n",
       " Row(estado='CAMPECHE'),\n",
       " Row(estado='CHIAPAS'),\n",
       " Row(estado=' COL. EDUARDO GUERRA'),\n",
       " Row(estado='NAYARIT'),\n",
       " Row(estado='BAJA CALIFORNIA'),\n",
       " Row(estado='TLAXCALA'),\n",
       " Row(estado='CHIHUAHUA'),\n",
       " Row(estado='DISTRITO FEDERAL'),\n",
       " Row(estado='estado'),\n",
       " Row(estado='VERACRUZ DE IGNACIO DE LA LLAVE'),\n",
       " Row(estado='HIDALGO'),\n",
       " Row(estado='ZACATECAS'),\n",
       " Row(estado='COAHUILA DE ZARAGOZA'),\n",
       " Row(estado='QUERÉTARO'),\n",
       " Row(estado='SONORA'),\n",
       " Row(estado='YUCATÁN'),\n",
       " Row(estado='GUANAJUATO'),\n",
       " Row(estado='MICHOACÁN DE OCAMPO'),\n",
       " Row(estado='SAN LUIS POTOSÍ'),\n",
       " Row(estado='TAMAULIPAS'),\n",
       " Row(estado='DURANGO'),\n",
       " Row(estado='MORELOS'),\n",
       " Row(estado='GUERRERO'),\n",
       " Row(estado=None),\n",
       " Row(estado='AGUASCALIENTES'),\n",
       " Row(estado='OAXACA'),\n",
       " Row(estado='COLIMA'),\n",
       " Row(estado='MÉXICO'),\n",
       " Row(estado='PUEBLA')]"
      ]
     },
     "execution_count": 153,
     "metadata": {},
     "output_type": "execute_result"
    }
   ],
   "source": [
    "data.select('estado').distinct().collect()"
   ]
  },
  {
   "cell_type": "code",
   "execution_count": 152,
   "id": "statistical-highlight",
   "metadata": {},
   "outputs": [
    {
     "data": {
      "text/plain": [
       "[Row(municipio='LEÓN'),\n",
       " Row(municipio='LEON                                    ')]"
      ]
     },
     "execution_count": 152,
     "metadata": {},
     "output_type": "execute_result"
    }
   ],
   "source": [
    "#Distintos municipios en guanajuato\n",
    "data.filter(data.estado == 'GUANAJUATO').select('municipio').distinct().collect()"
   ]
  },
  {
   "cell_type": "code",
   "execution_count": 149,
   "id": "baking-employment",
   "metadata": {},
   "outputs": [],
   "source": [
    "leon = data.filter(data.municipio.isin('LEON','LEÓN'))"
   ]
  },
  {
   "cell_type": "code",
   "execution_count": 150,
   "id": "raised-sydney",
   "metadata": {},
   "outputs": [],
   "source": [
    "categorias_leon = leon.groupBy(\"categoria\").agg({'precio':'avg'})"
   ]
  },
  {
   "cell_type": "code",
   "execution_count": 154,
   "id": "silver-pierce",
   "metadata": {},
   "outputs": [
    {
     "name": "stdout",
     "output_type": "stream",
     "text": [
      "+-------------------------------+------------------+\n",
      "|categoria                      |avg(precio)       |\n",
      "+-------------------------------+------------------+\n",
      "|TE                             |13.80720073664825 |\n",
      "|CIGARRILLOS                    |14.961790668348042|\n",
      "|TORTILLAS Y DERIVADOS DEL MAIZ |15.290977703455969|\n",
      "|REFRESCOS ENVASADOS            |16.199623414423783|\n",
      "|PAN                            |17.65706231079718 |\n",
      "|FRUTAS Y LEGUMBRES PROCESADAS  |19.37406217526842 |\n",
      "|PESCADOS Y MARISCOS EN CONSERVA|19.881359691417554|\n",
      "|CHOCOLATES Y GOLOSINAS         |20.356773314650475|\n",
      "|LEGUMBRES SECAS                |20.99267949226498 |\n",
      "|HORTALIZAS FRESCAS             |21.59279772284331 |\n",
      "+-------------------------------+------------------+\n",
      "only showing top 10 rows\n",
      "\n"
     ]
    }
   ],
   "source": [
    "categorias_leon.orderBy('avg(precio)', ascending=True).show(10,False)"
   ]
  },
  {
   "cell_type": "markdown",
   "id": "choice-filing",
   "metadata": {},
   "source": []
  },
  {
   "cell_type": "code",
   "execution_count": null,
   "id": "behind-orlando",
   "metadata": {},
   "outputs": [],
   "source": []
  },
  {
   "cell_type": "markdown",
   "id": "english-engagement",
   "metadata": {},
   "source": [
    "***\n",
    "## Notas finales\n",
    "Por el tamaño de la base, fue complicado realizar algunos procesamientos debido a la falta de memoria del dispositivo en el que se trabajó (macbook air - 8gb ram - < 2gb en disco libres despues de descargar la base)\n",
    "\n",
    "Cabe destacar que nunca había utilizado spark (a pesar de haber estudiado sus capacidades y funcionalidades) y sin embargo, resultó de gran utilidad para el procesamiento de esta base de datos de más de 20GB"
   ]
  }
 ],
 "metadata": {
  "kernelspec": {
   "display_name": "Python 3",
   "language": "python",
   "name": "python3"
  },
  "language_info": {
   "codemirror_mode": {
    "name": "ipython",
    "version": 3
   },
   "file_extension": ".py",
   "mimetype": "text/x-python",
   "name": "python",
   "nbconvert_exporter": "python",
   "pygments_lexer": "ipython3",
   "version": "3.7.6"
  }
 },
 "nbformat": 4,
 "nbformat_minor": 5
}
