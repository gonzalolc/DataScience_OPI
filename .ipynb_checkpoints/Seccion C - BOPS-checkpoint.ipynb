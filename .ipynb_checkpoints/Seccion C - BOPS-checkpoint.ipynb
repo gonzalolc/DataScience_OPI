{
 "cells": [
  {
   "cell_type": "markdown",
   "id": "utility-concentrate",
   "metadata": {},
   "source": [
    "# Resolución del Examen Data Science - OPI Analytics\n",
    "## Gonzalo Lima Cinta"
   ]
  },
  {
   "cell_type": "markdown",
   "id": "controlled-circumstances",
   "metadata": {},
   "source": [
    "***\n",
    "### Sección C\n",
    "### BOPS"
   ]
  },
  {
   "cell_type": "markdown",
   "id": "varying-photograph",
   "metadata": {},
   "source": []
  },
  {
   "cell_type": "code",
   "execution_count": 122,
   "id": "differential-brooklyn",
   "metadata": {},
   "outputs": [],
   "source": [
    "import pandas as pd\n",
    "import matplotlib.pyplot as plt"
   ]
  },
  {
   "cell_type": "code",
   "execution_count": 206,
   "id": "wireless-coordination",
   "metadata": {},
   "outputs": [],
   "source": [
    "data_bm = pd.read_csv('databases/BOPS_case/bops_bm.csv', thousands=',')"
   ]
  },
  {
   "cell_type": "code",
   "execution_count": 76,
   "id": "engaged-botswana",
   "metadata": {},
   "outputs": [],
   "source": [
    "data_online = pd.read_csv('databases/BOPS_case/bops_online.csv', thousands=',')"
   ]
  },
  {
   "cell_type": "code",
   "execution_count": 207,
   "id": "affiliated-trance",
   "metadata": {},
   "outputs": [
    {
     "data": {
      "text/html": [
       "<div>\n",
       "<style scoped>\n",
       "    .dataframe tbody tr th:only-of-type {\n",
       "        vertical-align: middle;\n",
       "    }\n",
       "\n",
       "    .dataframe tbody tr th {\n",
       "        vertical-align: top;\n",
       "    }\n",
       "\n",
       "    .dataframe thead th {\n",
       "        text-align: right;\n",
       "    }\n",
       "</style>\n",
       "<table border=\"1\" class=\"dataframe\">\n",
       "  <thead>\n",
       "    <tr style=\"text-align: right;\">\n",
       "      <th></th>\n",
       "      <th>id (store)</th>\n",
       "      <th>year</th>\n",
       "      <th>month</th>\n",
       "      <th>week</th>\n",
       "      <th>usa</th>\n",
       "      <th>after</th>\n",
       "      <th>sales</th>\n",
       "    </tr>\n",
       "  </thead>\n",
       "  <tbody>\n",
       "    <tr>\n",
       "      <th>0</th>\n",
       "      <td>1</td>\n",
       "      <td>2011</td>\n",
       "      <td>4</td>\n",
       "      <td>16</td>\n",
       "      <td>0</td>\n",
       "      <td>0</td>\n",
       "      <td>118691</td>\n",
       "    </tr>\n",
       "    <tr>\n",
       "      <th>1</th>\n",
       "      <td>1</td>\n",
       "      <td>2011</td>\n",
       "      <td>4</td>\n",
       "      <td>17</td>\n",
       "      <td>0</td>\n",
       "      <td>0</td>\n",
       "      <td>113804</td>\n",
       "    </tr>\n",
       "    <tr>\n",
       "      <th>2</th>\n",
       "      <td>1</td>\n",
       "      <td>2011</td>\n",
       "      <td>4</td>\n",
       "      <td>18</td>\n",
       "      <td>0</td>\n",
       "      <td>0</td>\n",
       "      <td>172104</td>\n",
       "    </tr>\n",
       "    <tr>\n",
       "      <th>3</th>\n",
       "      <td>1</td>\n",
       "      <td>2011</td>\n",
       "      <td>5</td>\n",
       "      <td>19</td>\n",
       "      <td>0</td>\n",
       "      <td>0</td>\n",
       "      <td>105591</td>\n",
       "    </tr>\n",
       "    <tr>\n",
       "      <th>4</th>\n",
       "      <td>1</td>\n",
       "      <td>2011</td>\n",
       "      <td>5</td>\n",
       "      <td>20</td>\n",
       "      <td>0</td>\n",
       "      <td>0</td>\n",
       "      <td>94884</td>\n",
       "    </tr>\n",
       "  </tbody>\n",
       "</table>\n",
       "</div>"
      ],
      "text/plain": [
       "   id (store)  year  month  week  usa  after   sales\n",
       "0           1  2011      4    16    0      0  118691\n",
       "1           1  2011      4    17    0      0  113804\n",
       "2           1  2011      4    18    0      0  172104\n",
       "3           1  2011      5    19    0      0  105591\n",
       "4           1  2011      5    20    0      0   94884"
      ]
     },
     "execution_count": 207,
     "metadata": {},
     "output_type": "execute_result"
    }
   ],
   "source": [
    "data_bm.head()"
   ]
  },
  {
   "cell_type": "code",
   "execution_count": 198,
   "id": "leading-supply",
   "metadata": {},
   "outputs": [
    {
     "data": {
      "text/html": [
       "<div>\n",
       "<style scoped>\n",
       "    .dataframe tbody tr th:only-of-type {\n",
       "        vertical-align: middle;\n",
       "    }\n",
       "\n",
       "    .dataframe tbody tr th {\n",
       "        vertical-align: top;\n",
       "    }\n",
       "\n",
       "    .dataframe thead th {\n",
       "        text-align: right;\n",
       "    }\n",
       "</style>\n",
       "<table border=\"1\" class=\"dataframe\">\n",
       "  <thead>\n",
       "    <tr style=\"text-align: right;\">\n",
       "      <th></th>\n",
       "      <th>id (store)</th>\n",
       "      <th>year</th>\n",
       "      <th>month</th>\n",
       "      <th>week</th>\n",
       "      <th>usa</th>\n",
       "      <th>after</th>\n",
       "    </tr>\n",
       "  </thead>\n",
       "  <tbody>\n",
       "    <tr>\n",
       "      <th>count</th>\n",
       "      <td>4536.000000</td>\n",
       "      <td>4536.000000</td>\n",
       "      <td>4536.000000</td>\n",
       "      <td>4536.000000</td>\n",
       "      <td>4536.000000</td>\n",
       "      <td>4536.000000</td>\n",
       "    </tr>\n",
       "    <tr>\n",
       "      <th>mean</th>\n",
       "      <td>84.738095</td>\n",
       "      <td>2011.296296</td>\n",
       "      <td>6.314815</td>\n",
       "      <td>26.796296</td>\n",
       "      <td>0.797619</td>\n",
       "      <td>0.500000</td>\n",
       "    </tr>\n",
       "    <tr>\n",
       "      <th>std</th>\n",
       "      <td>49.434118</td>\n",
       "      <td>0.456674</td>\n",
       "      <td>3.479549</td>\n",
       "      <td>15.228823</td>\n",
       "      <td>0.401819</td>\n",
       "      <td>0.500055</td>\n",
       "    </tr>\n",
       "    <tr>\n",
       "      <th>min</th>\n",
       "      <td>1.000000</td>\n",
       "      <td>2011.000000</td>\n",
       "      <td>1.000000</td>\n",
       "      <td>1.000000</td>\n",
       "      <td>0.000000</td>\n",
       "      <td>0.000000</td>\n",
       "    </tr>\n",
       "    <tr>\n",
       "      <th>25%</th>\n",
       "      <td>42.500000</td>\n",
       "      <td>2011.000000</td>\n",
       "      <td>3.000000</td>\n",
       "      <td>14.000000</td>\n",
       "      <td>1.000000</td>\n",
       "      <td>0.000000</td>\n",
       "    </tr>\n",
       "    <tr>\n",
       "      <th>50%</th>\n",
       "      <td>84.000000</td>\n",
       "      <td>2011.000000</td>\n",
       "      <td>6.000000</td>\n",
       "      <td>26.500000</td>\n",
       "      <td>1.000000</td>\n",
       "      <td>0.500000</td>\n",
       "    </tr>\n",
       "    <tr>\n",
       "      <th>75%</th>\n",
       "      <td>127.500000</td>\n",
       "      <td>2012.000000</td>\n",
       "      <td>9.000000</td>\n",
       "      <td>40.000000</td>\n",
       "      <td>1.000000</td>\n",
       "      <td>1.000000</td>\n",
       "    </tr>\n",
       "    <tr>\n",
       "      <th>max</th>\n",
       "      <td>169.000000</td>\n",
       "      <td>2012.000000</td>\n",
       "      <td>12.000000</td>\n",
       "      <td>53.000000</td>\n",
       "      <td>1.000000</td>\n",
       "      <td>1.000000</td>\n",
       "    </tr>\n",
       "  </tbody>\n",
       "</table>\n",
       "</div>"
      ],
      "text/plain": [
       "        id (store)         year        month         week          usa  \\\n",
       "count  4536.000000  4536.000000  4536.000000  4536.000000  4536.000000   \n",
       "mean     84.738095  2011.296296     6.314815    26.796296     0.797619   \n",
       "std      49.434118     0.456674     3.479549    15.228823     0.401819   \n",
       "min       1.000000  2011.000000     1.000000     1.000000     0.000000   \n",
       "25%      42.500000  2011.000000     3.000000    14.000000     1.000000   \n",
       "50%      84.000000  2011.000000     6.000000    26.500000     1.000000   \n",
       "75%     127.500000  2012.000000     9.000000    40.000000     1.000000   \n",
       "max     169.000000  2012.000000    12.000000    53.000000     1.000000   \n",
       "\n",
       "             after  \n",
       "count  4536.000000  \n",
       "mean      0.500000  \n",
       "std       0.500055  \n",
       "min       0.000000  \n",
       "25%       0.000000  \n",
       "50%       0.500000  \n",
       "75%       1.000000  \n",
       "max       1.000000  "
      ]
     },
     "execution_count": 198,
     "metadata": {},
     "output_type": "execute_result"
    }
   ],
   "source": [
    "data_bm.describe()"
   ]
  },
  {
   "cell_type": "code",
   "execution_count": 208,
   "id": "greater-costs",
   "metadata": {},
   "outputs": [],
   "source": [
    "data_bm.rename(columns={\"id (store)\": \"idStore\"},inplace = True)"
   ]
  },
  {
   "cell_type": "code",
   "execution_count": 154,
   "id": "primary-costume",
   "metadata": {},
   "outputs": [
    {
     "data": {
      "text/html": [
       "<div>\n",
       "<style scoped>\n",
       "    .dataframe tbody tr th:only-of-type {\n",
       "        vertical-align: middle;\n",
       "    }\n",
       "\n",
       "    .dataframe tbody tr th {\n",
       "        vertical-align: top;\n",
       "    }\n",
       "\n",
       "    .dataframe thead th {\n",
       "        text-align: right;\n",
       "    }\n",
       "</style>\n",
       "<table border=\"1\" class=\"dataframe\">\n",
       "  <thead>\n",
       "    <tr style=\"text-align: right;\">\n",
       "      <th></th>\n",
       "      <th>idDMA</th>\n",
       "      <th>year</th>\n",
       "      <th>month</th>\n",
       "      <th>week</th>\n",
       "      <th>after</th>\n",
       "      <th>close</th>\n",
       "      <th>sales</th>\n",
       "    </tr>\n",
       "  </thead>\n",
       "  <tbody>\n",
       "    <tr>\n",
       "      <th>count</th>\n",
       "      <td>10710.000000</td>\n",
       "      <td>10710.000000</td>\n",
       "      <td>10710.000000</td>\n",
       "      <td>10710.00000</td>\n",
       "      <td>10710.000000</td>\n",
       "      <td>10710.000000</td>\n",
       "      <td>10710.000000</td>\n",
       "    </tr>\n",
       "    <tr>\n",
       "      <th>mean</th>\n",
       "      <td>105.500000</td>\n",
       "      <td>2011.274510</td>\n",
       "      <td>6.450980</td>\n",
       "      <td>27.45098</td>\n",
       "      <td>0.490196</td>\n",
       "      <td>0.480952</td>\n",
       "      <td>13755.704855</td>\n",
       "    </tr>\n",
       "    <tr>\n",
       "      <th>std</th>\n",
       "      <td>60.623921</td>\n",
       "      <td>0.446288</td>\n",
       "      <td>3.533278</td>\n",
       "      <td>15.42074</td>\n",
       "      <td>0.499927</td>\n",
       "      <td>0.499660</td>\n",
       "      <td>22411.737794</td>\n",
       "    </tr>\n",
       "    <tr>\n",
       "      <th>min</th>\n",
       "      <td>1.000000</td>\n",
       "      <td>2011.000000</td>\n",
       "      <td>1.000000</td>\n",
       "      <td>1.00000</td>\n",
       "      <td>0.000000</td>\n",
       "      <td>0.000000</td>\n",
       "      <td>63.000000</td>\n",
       "    </tr>\n",
       "    <tr>\n",
       "      <th>25%</th>\n",
       "      <td>53.000000</td>\n",
       "      <td>2011.000000</td>\n",
       "      <td>3.000000</td>\n",
       "      <td>13.00000</td>\n",
       "      <td>0.000000</td>\n",
       "      <td>0.000000</td>\n",
       "      <td>1144.000000</td>\n",
       "    </tr>\n",
       "    <tr>\n",
       "      <th>50%</th>\n",
       "      <td>105.500000</td>\n",
       "      <td>2011.000000</td>\n",
       "      <td>7.000000</td>\n",
       "      <td>28.00000</td>\n",
       "      <td>0.000000</td>\n",
       "      <td>0.000000</td>\n",
       "      <td>5567.500000</td>\n",
       "    </tr>\n",
       "    <tr>\n",
       "      <th>75%</th>\n",
       "      <td>158.000000</td>\n",
       "      <td>2012.000000</td>\n",
       "      <td>10.000000</td>\n",
       "      <td>41.00000</td>\n",
       "      <td>1.000000</td>\n",
       "      <td>1.000000</td>\n",
       "      <td>17185.750000</td>\n",
       "    </tr>\n",
       "    <tr>\n",
       "      <th>max</th>\n",
       "      <td>210.000000</td>\n",
       "      <td>2012.000000</td>\n",
       "      <td>12.000000</td>\n",
       "      <td>53.00000</td>\n",
       "      <td>1.000000</td>\n",
       "      <td>1.000000</td>\n",
       "      <td>319233.000000</td>\n",
       "    </tr>\n",
       "  </tbody>\n",
       "</table>\n",
       "</div>"
      ],
      "text/plain": [
       "              idDMA          year         month         week         after  \\\n",
       "count  10710.000000  10710.000000  10710.000000  10710.00000  10710.000000   \n",
       "mean     105.500000   2011.274510      6.450980     27.45098      0.490196   \n",
       "std       60.623921      0.446288      3.533278     15.42074      0.499927   \n",
       "min        1.000000   2011.000000      1.000000      1.00000      0.000000   \n",
       "25%       53.000000   2011.000000      3.000000     13.00000      0.000000   \n",
       "50%      105.500000   2011.000000      7.000000     28.00000      0.000000   \n",
       "75%      158.000000   2012.000000     10.000000     41.00000      1.000000   \n",
       "max      210.000000   2012.000000     12.000000     53.00000      1.000000   \n",
       "\n",
       "              close          sales  \n",
       "count  10710.000000   10710.000000  \n",
       "mean       0.480952   13755.704855  \n",
       "std        0.499660   22411.737794  \n",
       "min        0.000000      63.000000  \n",
       "25%        0.000000    1144.000000  \n",
       "50%        0.000000    5567.500000  \n",
       "75%        1.000000   17185.750000  \n",
       "max        1.000000  319233.000000  "
      ]
     },
     "execution_count": 154,
     "metadata": {},
     "output_type": "execute_result"
    }
   ],
   "source": [
    "data_online.describe()"
   ]
  },
  {
   "cell_type": "code",
   "execution_count": 81,
   "id": "elegant-bernard",
   "metadata": {},
   "outputs": [],
   "source": [
    "data_online.rename(columns={\"id (DMA)\": \"idDMA\"},inplace = True)"
   ]
  },
  {
   "cell_type": "code",
   "execution_count": 209,
   "id": "altered-talent",
   "metadata": {},
   "outputs": [],
   "source": [
    "data_online['date']=data_online['year'].astype(str) + data_online['month'].astype(str).str.zfill(2)\n",
    "data_online['date'] = pd.to_datetime(data_online['date'], format='%Y%m')\n",
    "data_bm['date']=data_bm['year'].astype(str) + data_bm['month'].astype(str).str.zfill(2)\n",
    "data_bm['date'] = pd.to_datetime(data_bm['date'], format='%Y%m')"
   ]
  },
  {
   "cell_type": "code",
   "execution_count": 147,
   "id": "judicial-explorer",
   "metadata": {},
   "outputs": [
    {
     "data": {
      "text/html": [
       "<div>\n",
       "<style scoped>\n",
       "    .dataframe tbody tr th:only-of-type {\n",
       "        vertical-align: middle;\n",
       "    }\n",
       "\n",
       "    .dataframe tbody tr th {\n",
       "        vertical-align: top;\n",
       "    }\n",
       "\n",
       "    .dataframe thead th {\n",
       "        text-align: right;\n",
       "    }\n",
       "</style>\n",
       "<table border=\"1\" class=\"dataframe\">\n",
       "  <thead>\n",
       "    <tr style=\"text-align: right;\">\n",
       "      <th></th>\n",
       "      <th>idDMA</th>\n",
       "      <th>year</th>\n",
       "      <th>month</th>\n",
       "      <th>week</th>\n",
       "      <th>after</th>\n",
       "      <th>close</th>\n",
       "      <th>sales</th>\n",
       "      <th>date</th>\n",
       "    </tr>\n",
       "  </thead>\n",
       "  <tbody>\n",
       "    <tr>\n",
       "      <th>0</th>\n",
       "      <td>1</td>\n",
       "      <td>2011</td>\n",
       "      <td>4</td>\n",
       "      <td>17</td>\n",
       "      <td>0</td>\n",
       "      <td>1</td>\n",
       "      <td>18564</td>\n",
       "      <td>2011-04-01</td>\n",
       "    </tr>\n",
       "    <tr>\n",
       "      <th>1</th>\n",
       "      <td>1</td>\n",
       "      <td>2011</td>\n",
       "      <td>4</td>\n",
       "      <td>18</td>\n",
       "      <td>0</td>\n",
       "      <td>1</td>\n",
       "      <td>30883</td>\n",
       "      <td>2011-04-01</td>\n",
       "    </tr>\n",
       "    <tr>\n",
       "      <th>2</th>\n",
       "      <td>1</td>\n",
       "      <td>2011</td>\n",
       "      <td>5</td>\n",
       "      <td>19</td>\n",
       "      <td>0</td>\n",
       "      <td>1</td>\n",
       "      <td>37425</td>\n",
       "      <td>2011-05-01</td>\n",
       "    </tr>\n",
       "    <tr>\n",
       "      <th>3</th>\n",
       "      <td>1</td>\n",
       "      <td>2011</td>\n",
       "      <td>5</td>\n",
       "      <td>20</td>\n",
       "      <td>0</td>\n",
       "      <td>1</td>\n",
       "      <td>32563</td>\n",
       "      <td>2011-05-01</td>\n",
       "    </tr>\n",
       "    <tr>\n",
       "      <th>4</th>\n",
       "      <td>1</td>\n",
       "      <td>2011</td>\n",
       "      <td>5</td>\n",
       "      <td>21</td>\n",
       "      <td>0</td>\n",
       "      <td>1</td>\n",
       "      <td>35773</td>\n",
       "      <td>2011-05-01</td>\n",
       "    </tr>\n",
       "  </tbody>\n",
       "</table>\n",
       "</div>"
      ],
      "text/plain": [
       "   idDMA  year  month  week  after  close  sales       date\n",
       "0      1  2011      4    17      0      1  18564 2011-04-01\n",
       "1      1  2011      4    18      0      1  30883 2011-04-01\n",
       "2      1  2011      5    19      0      1  37425 2011-05-01\n",
       "3      1  2011      5    20      0      1  32563 2011-05-01\n",
       "4      1  2011      5    21      0      1  35773 2011-05-01"
      ]
     },
     "execution_count": 147,
     "metadata": {},
     "output_type": "execute_result"
    }
   ],
   "source": [
    "data_online.head()"
   ]
  },
  {
   "cell_type": "markdown",
   "id": "beneficial-sweet",
   "metadata": {},
   "source": [
    "***\n",
    "__Análisis en tienda online__"
   ]
  },
  {
   "cell_type": "code",
   "execution_count": 165,
   "id": "smooth-costume",
   "metadata": {},
   "outputs": [
    {
     "data": {
      "text/html": [
       "<div>\n",
       "<style scoped>\n",
       "    .dataframe tbody tr th:only-of-type {\n",
       "        vertical-align: middle;\n",
       "    }\n",
       "\n",
       "    .dataframe tbody tr th {\n",
       "        vertical-align: top;\n",
       "    }\n",
       "\n",
       "    .dataframe thead th {\n",
       "        text-align: right;\n",
       "    }\n",
       "</style>\n",
       "<table border=\"1\" class=\"dataframe\">\n",
       "  <thead>\n",
       "    <tr style=\"text-align: right;\">\n",
       "      <th></th>\n",
       "      <th>after</th>\n",
       "      <th>close</th>\n",
       "      <th>sales</th>\n",
       "    </tr>\n",
       "  </thead>\n",
       "  <tbody>\n",
       "    <tr>\n",
       "      <th>count</th>\n",
       "      <td>26.000000</td>\n",
       "      <td>26.000000</td>\n",
       "      <td>26.000000</td>\n",
       "    </tr>\n",
       "    <tr>\n",
       "      <th>mean</th>\n",
       "      <td>0.461538</td>\n",
       "      <td>0.500000</td>\n",
       "      <td>5.666292</td>\n",
       "    </tr>\n",
       "    <tr>\n",
       "      <th>std</th>\n",
       "      <td>0.508391</td>\n",
       "      <td>0.509902</td>\n",
       "      <td>2.091697</td>\n",
       "    </tr>\n",
       "    <tr>\n",
       "      <th>min</th>\n",
       "      <td>0.000000</td>\n",
       "      <td>0.000000</td>\n",
       "      <td>2.611444</td>\n",
       "    </tr>\n",
       "    <tr>\n",
       "      <th>25%</th>\n",
       "      <td>0.000000</td>\n",
       "      <td>0.000000</td>\n",
       "      <td>3.885421</td>\n",
       "    </tr>\n",
       "    <tr>\n",
       "      <th>50%</th>\n",
       "      <td>0.000000</td>\n",
       "      <td>0.500000</td>\n",
       "      <td>5.699560</td>\n",
       "    </tr>\n",
       "    <tr>\n",
       "      <th>75%</th>\n",
       "      <td>1.000000</td>\n",
       "      <td>1.000000</td>\n",
       "      <td>6.935042</td>\n",
       "    </tr>\n",
       "    <tr>\n",
       "      <th>max</th>\n",
       "      <td>1.000000</td>\n",
       "      <td>1.000000</td>\n",
       "      <td>10.398055</td>\n",
       "    </tr>\n",
       "  </tbody>\n",
       "</table>\n",
       "</div>"
      ],
      "text/plain": [
       "           after      close      sales\n",
       "count  26.000000  26.000000  26.000000\n",
       "mean    0.461538   0.500000   5.666292\n",
       "std     0.508391   0.509902   2.091697\n",
       "min     0.000000   0.000000   2.611444\n",
       "25%     0.000000   0.000000   3.885421\n",
       "50%     0.000000   0.500000   5.699560\n",
       "75%     1.000000   1.000000   6.935042\n",
       "max     1.000000   1.000000  10.398055"
      ]
     },
     "execution_count": 165,
     "metadata": {},
     "output_type": "execute_result"
    }
   ],
   "source": [
    "#linea de prueba\n",
    "data_online.groupby([\"after\",\"close\",\"date\"])['sales'].sum().reset_index().describe()"
   ]
  },
  {
   "cell_type": "code",
   "execution_count": 164,
   "id": "brutal-brother",
   "metadata": {},
   "outputs": [],
   "source": [
    "data_online[\"sales\"]=data_online[\"sales\"]/1000000"
   ]
  },
  {
   "cell_type": "markdown",
   "id": "pleasant-figure",
   "metadata": {},
   "source": [
    "Ventas en millones de dolares"
   ]
  },
  {
   "cell_type": "code",
   "execution_count": 173,
   "id": "alpine-comparison",
   "metadata": {},
   "outputs": [
    {
     "data": {
      "text/plain": [
       "after  close\n",
       "0      0        [AxesSubplot(0.125,0.125;0.775x0.755)]\n",
       "       1        [AxesSubplot(0.125,0.125;0.775x0.755)]\n",
       "1      0        [AxesSubplot(0.125,0.125;0.775x0.755)]\n",
       "       1        [AxesSubplot(0.125,0.125;0.775x0.755)]\n",
       "dtype: object"
      ]
     },
     "execution_count": 173,
     "metadata": {},
     "output_type": "execute_result"
    },
    {
     "data": {
      "image/png": "[encoded data removed]",
      "text/plain": [
       "<Figure size 432x288 with 1 Axes>"
      ]
     },
     "metadata": {
      "needs_background": "light"
     },
     "output_type": "display_data"
    },
    {
     "data": {
      "image/png": "[encoded data removed]",
      "text/plain": [
       "<Figure size 432x288 with 1 Axes>"
      ]
     },
     "metadata": {
      "needs_background": "light"
     },
     "output_type": "display_data"
    },
    {
     "data": {
      "image/png": "[encoded data removed]",
      "text/plain": [
       "<Figure size 432x288 with 1 Axes>"
      ]
     },
     "metadata": {
      "needs_background": "light"
     },
     "output_type": "display_data"
    },
    {
     "data": {
      "image/png": "[encoded data removed]",
      "text/plain": [
       "<Figure size 432x288 with 1 Axes>"
      ]
     },
     "metadata": {
      "needs_background": "light"
     },
     "output_type": "display_data"
    }
   ],
   "source": [
    "data_online.groupby([\"after\",\"close\",\"date\"])['sales'].sum().reset_index().groupby([\"after\",\"close\"])\\\n",
    ".plot.line(x=\"date\", y=\"sales\", ylim=(2.5,11), subplots=True)"
   ]
  },
  {
   "cell_type": "markdown",
   "id": "parental-charger",
   "metadata": {},
   "source": [
    "Graficas sin separar la categoría \"close\""
   ]
  },
  {
   "cell_type": "code",
   "execution_count": 174,
   "id": "sensitive-arbor",
   "metadata": {},
   "outputs": [
    {
     "data": {
      "text/html": [
       "<div>\n",
       "<style scoped>\n",
       "    .dataframe tbody tr th:only-of-type {\n",
       "        vertical-align: middle;\n",
       "    }\n",
       "\n",
       "    .dataframe tbody tr th {\n",
       "        vertical-align: top;\n",
       "    }\n",
       "\n",
       "    .dataframe thead tr th {\n",
       "        text-align: left;\n",
       "    }\n",
       "\n",
       "    .dataframe thead tr:last-of-type th {\n",
       "        text-align: right;\n",
       "    }\n",
       "</style>\n",
       "<table border=\"1\" class=\"dataframe\">\n",
       "  <thead>\n",
       "    <tr>\n",
       "      <th></th>\n",
       "      <th colspan=\"8\" halign=\"left\">sales</th>\n",
       "    </tr>\n",
       "    <tr>\n",
       "      <th></th>\n",
       "      <th>count</th>\n",
       "      <th>mean</th>\n",
       "      <th>std</th>\n",
       "      <th>min</th>\n",
       "      <th>25%</th>\n",
       "      <th>50%</th>\n",
       "      <th>75%</th>\n",
       "      <th>max</th>\n",
       "    </tr>\n",
       "    <tr>\n",
       "      <th>after</th>\n",
       "      <th></th>\n",
       "      <th></th>\n",
       "      <th></th>\n",
       "      <th></th>\n",
       "      <th></th>\n",
       "      <th></th>\n",
       "      <th></th>\n",
       "      <th></th>\n",
       "    </tr>\n",
       "  </thead>\n",
       "  <tbody>\n",
       "    <tr>\n",
       "      <th>0</th>\n",
       "      <td>7.0</td>\n",
       "      <td>11.495516</td>\n",
       "      <td>4.188129</td>\n",
       "      <td>5.801892</td>\n",
       "      <td>8.740495</td>\n",
       "      <td>12.351809</td>\n",
       "      <td>13.820819</td>\n",
       "      <td>17.192284</td>\n",
       "    </tr>\n",
       "    <tr>\n",
       "      <th>1</th>\n",
       "      <td>6.0</td>\n",
       "      <td>11.142498</td>\n",
       "      <td>4.218271</td>\n",
       "      <td>6.459044</td>\n",
       "      <td>8.539037</td>\n",
       "      <td>10.493383</td>\n",
       "      <td>12.479225</td>\n",
       "      <td>18.380415</td>\n",
       "    </tr>\n",
       "  </tbody>\n",
       "</table>\n",
       "</div>"
      ],
      "text/plain": [
       "      sales                                                                 \\\n",
       "      count       mean       std       min       25%        50%        75%   \n",
       "after                                                                        \n",
       "0       7.0  11.495516  4.188129  5.801892  8.740495  12.351809  13.820819   \n",
       "1       6.0  11.142498  4.218271  6.459044  8.539037  10.493383  12.479225   \n",
       "\n",
       "                  \n",
       "             max  \n",
       "after             \n",
       "0      17.192284  \n",
       "1      18.380415  "
      ]
     },
     "execution_count": 174,
     "metadata": {},
     "output_type": "execute_result"
    }
   ],
   "source": [
    "data_online.groupby([\"after\",\"date\"])['sales'].sum().reset_index().groupby([\"after\"]).describe()"
   ]
  },
  {
   "cell_type": "code",
   "execution_count": 175,
   "id": "greater-understanding",
   "metadata": {},
   "outputs": [
    {
     "data": {
      "text/plain": [
       "after\n",
       "0    [AxesSubplot(0.125,0.125;0.775x0.755)]\n",
       "1    [AxesSubplot(0.125,0.125;0.775x0.755)]\n",
       "dtype: object"
      ]
     },
     "execution_count": 175,
     "metadata": {},
     "output_type": "execute_result"
    },
    {
     "data": {
      "image/png": "[encoded data removed]",
      "text/plain": [
       "<Figure size 432x288 with 1 Axes>"
      ]
     },
     "metadata": {
      "needs_background": "light"
     },
     "output_type": "display_data"
    },
    {
     "data": {
      "image/png": "[encoded data removed]",
      "text/plain": [
       "<Figure size 432x288 with 1 Axes>"
      ]
     },
     "metadata": {
      "needs_background": "light"
     },
     "output_type": "display_data"
    }
   ],
   "source": [
    "data_online.groupby([\"after\",\"date\"])['sales'].sum().reset_index().groupby([\"after\"])\\\n",
    ".plot.line(x=\"date\", y=\"sales\", ylim=(5,20), subplots=True)"
   ]
  },
  {
   "cell_type": "code",
   "execution_count": 229,
   "id": "french-treatment",
   "metadata": {},
   "outputs": [
    {
     "data": {
      "text/html": [
       "<div>\n",
       "<style scoped>\n",
       "    .dataframe tbody tr th:only-of-type {\n",
       "        vertical-align: middle;\n",
       "    }\n",
       "\n",
       "    .dataframe tbody tr th {\n",
       "        vertical-align: top;\n",
       "    }\n",
       "\n",
       "    .dataframe thead th {\n",
       "        text-align: right;\n",
       "    }\n",
       "</style>\n",
       "<table border=\"1\" class=\"dataframe\">\n",
       "  <thead>\n",
       "    <tr style=\"text-align: right;\">\n",
       "      <th></th>\n",
       "      <th>after</th>\n",
       "      <th>close</th>\n",
       "      <th>sales</th>\n",
       "    </tr>\n",
       "  </thead>\n",
       "  <tbody>\n",
       "    <tr>\n",
       "      <th>0</th>\n",
       "      <td>0</td>\n",
       "      <td>0</td>\n",
       "      <td>44.378032</td>\n",
       "    </tr>\n",
       "    <tr>\n",
       "      <th>1</th>\n",
       "      <td>0</td>\n",
       "      <td>1</td>\n",
       "      <td>36.090582</td>\n",
       "    </tr>\n",
       "    <tr>\n",
       "      <th>2</th>\n",
       "      <td>1</td>\n",
       "      <td>0</td>\n",
       "      <td>37.525951</td>\n",
       "    </tr>\n",
       "    <tr>\n",
       "      <th>3</th>\n",
       "      <td>1</td>\n",
       "      <td>1</td>\n",
       "      <td>29.329034</td>\n",
       "    </tr>\n",
       "  </tbody>\n",
       "</table>\n",
       "</div>"
      ],
      "text/plain": [
       "   after  close      sales\n",
       "0      0      0  44.378032\n",
       "1      0      1  36.090582\n",
       "2      1      0  37.525951\n",
       "3      1      1  29.329034"
      ]
     },
     "execution_count": 229,
     "metadata": {},
     "output_type": "execute_result"
    }
   ],
   "source": [
    "data_online.groupby([\"after\",\"close\"])['sales'].sum().reset_index().head()"
   ]
  },
  {
   "cell_type": "markdown",
   "id": "contrary-profit",
   "metadata": {},
   "source": [
    "***\n",
    "__Análisis en tiendas B&M__\n"
   ]
  },
  {
   "cell_type": "code",
   "execution_count": 222,
   "id": "bacterial-homework",
   "metadata": {},
   "outputs": [
    {
     "data": {
      "text/html": [
       "<div>\n",
       "<style scoped>\n",
       "    .dataframe tbody tr th:only-of-type {\n",
       "        vertical-align: middle;\n",
       "    }\n",
       "\n",
       "    .dataframe tbody tr th {\n",
       "        vertical-align: top;\n",
       "    }\n",
       "\n",
       "    .dataframe thead th {\n",
       "        text-align: right;\n",
       "    }\n",
       "</style>\n",
       "<table border=\"1\" class=\"dataframe\">\n",
       "  <thead>\n",
       "    <tr style=\"text-align: right;\">\n",
       "      <th></th>\n",
       "      <th>after</th>\n",
       "      <th>usa</th>\n",
       "      <th>sales</th>\n",
       "    </tr>\n",
       "  </thead>\n",
       "  <tbody>\n",
       "    <tr>\n",
       "      <th>count</th>\n",
       "      <td>14.000000</td>\n",
       "      <td>14.0</td>\n",
       "      <td>14.000000</td>\n",
       "    </tr>\n",
       "    <tr>\n",
       "      <th>mean</th>\n",
       "      <td>0.500000</td>\n",
       "      <td>1.0</td>\n",
       "      <td>16.656165</td>\n",
       "    </tr>\n",
       "    <tr>\n",
       "      <th>std</th>\n",
       "      <td>0.518875</td>\n",
       "      <td>0.0</td>\n",
       "      <td>4.574214</td>\n",
       "    </tr>\n",
       "    <tr>\n",
       "      <th>min</th>\n",
       "      <td>0.000000</td>\n",
       "      <td>1.0</td>\n",
       "      <td>7.376057</td>\n",
       "    </tr>\n",
       "    <tr>\n",
       "      <th>25%</th>\n",
       "      <td>0.000000</td>\n",
       "      <td>1.0</td>\n",
       "      <td>12.967300</td>\n",
       "    </tr>\n",
       "    <tr>\n",
       "      <th>50%</th>\n",
       "      <td>0.500000</td>\n",
       "      <td>1.0</td>\n",
       "      <td>17.079362</td>\n",
       "    </tr>\n",
       "    <tr>\n",
       "      <th>75%</th>\n",
       "      <td>1.000000</td>\n",
       "      <td>1.0</td>\n",
       "      <td>20.190428</td>\n",
       "    </tr>\n",
       "    <tr>\n",
       "      <th>max</th>\n",
       "      <td>1.000000</td>\n",
       "      <td>1.0</td>\n",
       "      <td>23.522551</td>\n",
       "    </tr>\n",
       "  </tbody>\n",
       "</table>\n",
       "</div>"
      ],
      "text/plain": [
       "           after   usa      sales\n",
       "count  14.000000  14.0  14.000000\n",
       "mean    0.500000   1.0  16.656165\n",
       "std     0.518875   0.0   4.574214\n",
       "min     0.000000   1.0   7.376057\n",
       "25%     0.000000   1.0  12.967300\n",
       "50%     0.500000   1.0  17.079362\n",
       "75%     1.000000   1.0  20.190428\n",
       "max     1.000000   1.0  23.522551"
      ]
     },
     "execution_count": 222,
     "metadata": {},
     "output_type": "execute_result"
    }
   ],
   "source": [
    "data_bm[data_bm['usa']==1].groupby([\"after\",\"usa\",\"date\"])['sales'].sum().reset_index().describe()"
   ]
  },
  {
   "cell_type": "code",
   "execution_count": 212,
   "id": "convenient-subscription",
   "metadata": {},
   "outputs": [],
   "source": [
    "data_bm[\"sales\"]=data_bm[\"sales\"]/1000000"
   ]
  },
  {
   "cell_type": "markdown",
   "id": "wanted-edgar",
   "metadata": {},
   "source": [
    "Venta en Millones de dolares"
   ]
  },
  {
   "cell_type": "code",
   "execution_count": 220,
   "id": "invalid-anthony",
   "metadata": {},
   "outputs": [
    {
     "data": {
      "text/plain": [
       "after\n",
       "0    [AxesSubplot(0.125,0.125;0.775x0.755)]\n",
       "1    [AxesSubplot(0.125,0.125;0.775x0.755)]\n",
       "dtype: object"
      ]
     },
     "execution_count": 220,
     "metadata": {},
     "output_type": "execute_result"
    },
    {
     "data": {
      "image/png": "[encoded data removed]",
      "text/plain": [
       "<Figure size 432x288 with 1 Axes>"
      ]
     },
     "metadata": {
      "needs_background": "light"
     },
     "output_type": "display_data"
    },
    {
     "data": {
      "image/png": "[encoded data removed]",
      "text/plain": [
       "<Figure size 432x288 with 1 Axes>"
      ]
     },
     "metadata": {
      "needs_background": "light"
     },
     "output_type": "display_data"
    }
   ],
   "source": [
    "#Ventas en Canadá\n",
    "data_bm[data_bm['usa']==0].groupby([\"after\",\"date\"])['sales'].sum().reset_index().groupby([\"after\"])\\\n",
    ".plot.line(x=\"date\", y=\"sales\", ylim=(1.5,6), subplots=True)"
   ]
  },
  {
   "cell_type": "code",
   "execution_count": 223,
   "id": "electoral-miracle",
   "metadata": {},
   "outputs": [
    {
     "data": {
      "text/plain": [
       "after\n",
       "0    [AxesSubplot(0.125,0.125;0.775x0.755)]\n",
       "1    [AxesSubplot(0.125,0.125;0.775x0.755)]\n",
       "dtype: object"
      ]
     },
     "execution_count": 223,
     "metadata": {},
     "output_type": "execute_result"
    },
    {
     "data": {
      "image/png": "[encoded data removed]",
      "text/plain": [
       "<Figure size 432x288 with 1 Axes>"
      ]
     },
     "metadata": {
      "needs_background": "light"
     },
     "output_type": "display_data"
    },
    {
     "data": {
      "image/png": "[encoded data removed]",
      "text/plain": [
       "<Figure size 432x288 with 1 Axes>"
      ]
     },
     "metadata": {
      "needs_background": "light"
     },
     "output_type": "display_data"
    }
   ],
   "source": [
    "#Ventas en USA\n",
    "data_bm[data_bm['usa']==1].groupby([\"after\",\"date\"])['sales'].sum().reset_index().groupby([\"after\"])\\\n",
    ".plot.line(x=\"date\", y=\"sales\", ylim=(7,25), subplots=True)"
   ]
  },
  {
   "cell_type": "code",
   "execution_count": 230,
   "id": "collective-dairy",
   "metadata": {},
   "outputs": [
    {
     "data": {
      "text/html": [
       "<div>\n",
       "<style scoped>\n",
       "    .dataframe tbody tr th:only-of-type {\n",
       "        vertical-align: middle;\n",
       "    }\n",
       "\n",
       "    .dataframe tbody tr th {\n",
       "        vertical-align: top;\n",
       "    }\n",
       "\n",
       "    .dataframe thead th {\n",
       "        text-align: right;\n",
       "    }\n",
       "</style>\n",
       "<table border=\"1\" class=\"dataframe\">\n",
       "  <thead>\n",
       "    <tr style=\"text-align: right;\">\n",
       "      <th></th>\n",
       "      <th>after</th>\n",
       "      <th>usa</th>\n",
       "      <th>sales</th>\n",
       "    </tr>\n",
       "  </thead>\n",
       "  <tbody>\n",
       "    <tr>\n",
       "      <th>0</th>\n",
       "      <td>0</td>\n",
       "      <td>0</td>\n",
       "      <td>30.689777</td>\n",
       "    </tr>\n",
       "    <tr>\n",
       "      <th>1</th>\n",
       "      <td>0</td>\n",
       "      <td>1</td>\n",
       "      <td>122.730695</td>\n",
       "    </tr>\n",
       "    <tr>\n",
       "      <th>2</th>\n",
       "      <td>1</td>\n",
       "      <td>0</td>\n",
       "      <td>25.853285</td>\n",
       "    </tr>\n",
       "    <tr>\n",
       "      <th>3</th>\n",
       "      <td>1</td>\n",
       "      <td>1</td>\n",
       "      <td>110.455609</td>\n",
       "    </tr>\n",
       "  </tbody>\n",
       "</table>\n",
       "</div>"
      ],
      "text/plain": [
       "   after  usa       sales\n",
       "0      0    0   30.689777\n",
       "1      0    1  122.730695\n",
       "2      1    0   25.853285\n",
       "3      1    1  110.455609"
      ]
     },
     "execution_count": 230,
     "metadata": {},
     "output_type": "execute_result"
    }
   ],
   "source": [
    "data_bm.groupby([\"after\",\"usa\"])['sales'].sum().reset_index().head()"
   ]
  },
  {
   "cell_type": "markdown",
   "id": "documented-temperature",
   "metadata": {},
   "source": [
    "***\n",
    "__1. ¿Deberían expandirse a Canadá?__\n",
    "\n",
    "El programa BOPS iniciado en octubre, funcionó correctamente el primer mes aumentando las ventas en gran medida.\n",
    "Puede no ser concluyente el comparar 2 periodos de fechas independientes y pensar que una nueva implementación es el unico factor.\n",
    "Se debería de realizar este mismo análisis con datos históricos de ventas para detectar patrones estacionales no ralcionados con la nueva implementación.\n",
    "Por otro lado, en Canadá no hubo implementación del programa BOPS y aun así las ventas se redujeron, por lo tanto, la reducción en las ventas pudo no haberse dado en absoluto por la implementación del programa."
   ]
  },
  {
   "cell_type": "markdown",
   "id": "challenging-resource",
   "metadata": {},
   "source": [
    "***\n",
    "__2. ¿Cuántos millones de dólares se ganaron o perdieron a partir del programa? Explica tu\n",
    "razonamiento y metodología.__\n",
    "\n",
    "Desde la implementación del programa, las ventas online en el periodo de 6 meses se redujeron casi 14 millones (17%) de dólares y se redujeron en 17 millones (11%) para las tiendas B&M. De nuevo, no es concluyente por no poder comparar con los respectivos meses del año anterior.\n",
    "Se realizaron totalizadores de antes y después de la implementación, tomando en cuenta si las tiendas estában a menos de 50 millas (en el caso online) y de igual manera para tienes en USA y Canadá.\n",
    "El aumento en el periodo de Noviembre también pudo haberse dado por el Black Friday que se realiza a finales de noviembre"
   ]
  }
 ],
 "metadata": {
  "kernelspec": {
   "display_name": "Python 3",
   "language": "python",
   "name": "python3"
  },
  "language_info": {
   "codemirror_mode": {
    "name": "ipython",
    "version": 3
   },
   "file_extension": ".py",
   "mimetype": "text/x-python",
   "name": "python",
   "nbconvert_exporter": "python",
   "pygments_lexer": "ipython3",
   "version": "3.7.6"
  }
 },
 "nbformat": 4,
 "nbformat_minor": 5
}
